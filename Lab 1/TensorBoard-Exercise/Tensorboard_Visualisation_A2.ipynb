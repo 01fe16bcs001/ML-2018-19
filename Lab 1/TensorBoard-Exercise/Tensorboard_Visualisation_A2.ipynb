{
 "cells": [
  {
   "cell_type": "code",
   "execution_count": 4,
   "metadata": {},
   "outputs": [],
   "source": [
    "# Implement the following algebraic expressons using TensorFlow Library and generate the tensorboard graph."
   ]
  },
  {
   "cell_type": "markdown",
   "metadata": {},
   "source": [
    "$$ (a+b+c)^3 = a^3 + b^3 + c^3 + 3(a+b)(b+c)(c+a) $$ $$ (a-b)^2 = a^2 + b^2 - 2ab $$\n"
   ]
  }
 ],
 "metadata": {
  "kernelspec": {
   "display_name": "Python 3",
   "language": "python",
   "name": "python3"
  },
  "language_info": {
   "codemirror_mode": {
    "name": "ipython",
    "version": 3
   },
   "file_extension": ".py",
   "mimetype": "text/x-python",
   "name": "python",
   "nbconvert_exporter": "python",
   "pygments_lexer": "ipython3",
   "version": "3.6.5"
  }
 },
 "nbformat": 4,
 "nbformat_minor": 2
}
