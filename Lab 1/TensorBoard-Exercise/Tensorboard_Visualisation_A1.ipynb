{
 "cells": [
  {
   "cell_type": "code",
   "execution_count": 6,
   "metadata": {},
   "outputs": [],
   "source": [
    "# Implement the following algebraic expressons using TensorFlow Library and generate the tensorboard graph."
   ]
  },
  {
   "cell_type": "markdown",
   "metadata": {},
   "source": [
    "1. $$ a^5+b^5 = (a - b)(a^4 + a^3b + a^2b^2 + ab^3 + b^4)$$\n",
    "\n",
    "2. $$ a^3+ b^3 = (a+b)(a^2 -ab + b^2) $$"
   ]
  }
 ],
 "metadata": {
  "kernelspec": {
   "display_name": "Python 3",
   "language": "python",
   "name": "python3"
  },
  "language_info": {
   "codemirror_mode": {
    "name": "ipython",
    "version": 3
   },
   "file_extension": ".py",
   "mimetype": "text/x-python",
   "name": "python",
   "nbconvert_exporter": "python",
   "pygments_lexer": "ipython3",
   "version": "3.6.5"
  }
 },
 "nbformat": 4,
 "nbformat_minor": 2
}
