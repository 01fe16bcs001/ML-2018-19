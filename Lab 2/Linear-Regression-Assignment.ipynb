{
 "cells": [
  {
   "cell_type": "markdown",
   "metadata": {},
   "source": [
    "                                                  Part-1\n",
    "\n",
    "Learning Rate: Used to limit the amount each coefficient is corrected each time it is updated.   \n",
    "Epochs: The number of times to run through the training data while updating the coefficients.\n",
    "\n",
    "\n",
    "\n",
    "\n",
    "1. Start with 0 (zero ) value for  m & c .\n",
    "2. Using cost function \n",
    "    $$J(\\theta) = \\frac{1}{2m}\\sum_{i=1}^m(h_\\theta(x^{(i)})-y^{(i)})^2$$\n",
    "    where $(h_\\theta(x^{(i)})$ is prediction for present iteration\n",
    "\n",
    "    \n",
    "3. Find the values of $\\theta_1$ & $\\theta_0$ by updating the values with learning rate of 0.005, 0.0005 etc and epoch value 100,500,1000, etc.\n",
    "4. Stop the iterations when error falls below threshold.\n"
   ]
  },
  {
   "cell_type": "markdown",
   "metadata": {},
   "source": [
    "                                                   Part 2\n",
    "1. Display the graph of decreasing cost function against learning rate and epoch.\n",
    "2. Compare time complexity of all the three approach.\n",
    "3. Start with random values of $\\theta_1$ & $\\theta_0$ and analyse best approach for initial values of $\\theta_1$ & $\\theta_0$."
   ]
  },
  {
   "cell_type": "markdown",
   "metadata": {},
   "source": [
    "                                                   Part 3\n",
    "1. Write analysis on how optimization was improved.\n",
    "2. Implement one more new cost function."
   ]
  }
 ],
 "metadata": {
  "kernelspec": {
   "display_name": "Python 3",
   "language": "python",
   "name": "python3"
  },
  "language_info": {
   "codemirror_mode": {
    "name": "ipython",
    "version": 3
   },
   "file_extension": ".py",
   "mimetype": "text/x-python",
   "name": "python",
   "nbconvert_exporter": "python",
   "pygments_lexer": "ipython3",
   "version": "3.6.5"
  }
 },
 "nbformat": 4,
 "nbformat_minor": 2
}
