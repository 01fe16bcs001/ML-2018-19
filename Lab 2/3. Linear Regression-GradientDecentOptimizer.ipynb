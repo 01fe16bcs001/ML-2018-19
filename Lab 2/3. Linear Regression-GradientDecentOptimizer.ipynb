{
 "cells": [
  {
   "cell_type": "code",
   "execution_count": 1,
   "metadata": {},
   "outputs": [],
   "source": [
    "import tensorflow as tf\n",
    "import numpy\n",
    "import matplotlib.pyplot as plt\n",
    "rng = numpy.random"
   ]
  },
  {
   "cell_type": "code",
   "execution_count": 2,
   "metadata": {},
   "outputs": [],
   "source": [
    "# Parameters\n",
    "learning_rate = 0.01\n",
    "training_epochs = 1000\n",
    "display_step = 50"
   ]
  },
  {
   "cell_type": "code",
   "execution_count": 3,
   "metadata": {},
   "outputs": [],
   "source": [
    "# Training Data\n",
    "train_X=numpy.asarray([1,2,4,3,5])\n",
    "train_Y=numpy.asarray([1,3,3,2,5])\n",
    "n_samples = train_X.shape[0]"
   ]
  },
  {
   "cell_type": "code",
   "execution_count": 4,
   "metadata": {},
   "outputs": [],
   "source": [
    "# tf Graph Input\n",
    "X = tf.placeholder(\"float\")\n",
    "Y = tf.placeholder(\"float\")\n",
    "\n",
    "# Set model weights\n",
    "W = tf.Variable(rng.randn(), name=\"weight\")\n",
    "b = tf.Variable(rng.randn(), name=\"bias\")"
   ]
  },
  {
   "cell_type": "code",
   "execution_count": 5,
   "metadata": {},
   "outputs": [],
   "source": [
    "# Construct a linear model\n",
    "pred = tf.add(tf.multiply(X, W), b)"
   ]
  },
  {
   "cell_type": "code",
   "execution_count": 6,
   "metadata": {},
   "outputs": [],
   "source": [
    "# Mean squared error\n",
    "cost = tf.reduce_sum(tf.pow(pred-Y, 2))/(2*n_samples)\n",
    "# Gradient descent\n",
    "optimizer = tf.train.GradientDescentOptimizer(learning_rate).minimize(cost)"
   ]
  },
  {
   "cell_type": "code",
   "execution_count": 7,
   "metadata": {},
   "outputs": [],
   "source": [
    "# Initializing the variables\n",
    "init = tf.global_variables_initializer()"
   ]
  },
  {
   "cell_type": "code",
   "execution_count": 8,
   "metadata": {},
   "outputs": [
    {
     "name": "stdout",
     "output_type": "stream",
     "text": [
      "Epoch: 0050 cost= 0.561090589 W= 1.3151675 b= -1.4792478\n",
      "Epoch: 0100 cost= 0.511057615 W= 1.2740463 b= -1.3265653\n",
      "Epoch: 0150 cost= 0.468865305 W= 1.2357504 b= -1.1864891\n",
      "Epoch: 0200 cost= 0.433258533 W= 1.2005782 b= -1.0578426\n",
      "Epoch: 0250 cost= 0.403208315 W= 1.1682758 b= -0.93969434\n",
      "Epoch: 0300 cost= 0.377845913 W= 1.1386093 b= -0.8311865\n",
      "Epoch: 0350 cost= 0.356438905 W= 1.1113632 b= -0.73153245\n",
      "Epoch: 0400 cost= 0.338369220 W= 1.0863402 b= -0.64000964\n",
      "Epoch: 0450 cost= 0.323115706 W= 1.0633593 b= -0.555955\n",
      "Epoch: 0500 cost= 0.310238570 W= 1.0422536 b= -0.47875908\n",
      "Epoch: 0550 cost= 0.299366772 W= 1.0228702 b= -0.40786275\n",
      "Epoch: 0600 cost= 0.290187091 W= 1.0050687 b= -0.3427516\n",
      "Epoch: 0650 cost= 0.282435536 W= 0.9887194 b= -0.2829532\n",
      "Epoch: 0700 cost= 0.275889248 W= 0.9737043 b= -0.22803424\n",
      "Epoch: 0750 cost= 0.270360202 W= 0.9599144 b= -0.17759651\n",
      "Epoch: 0800 cost= 0.265689850 W= 0.94724965 b= -0.13127446\n",
      "Epoch: 0850 cost= 0.261744320 W= 0.9356185 b= -0.08873226\n",
      "Epoch: 0900 cost= 0.258410513 W= 0.92493635 b= -0.04966155\n",
      "Epoch: 0950 cost= 0.255593359 W= 0.9151258 b= -0.013778781\n",
      "Epoch: 1000 cost= 0.253212243 W= 0.9061158 b= 0.019175956\n",
      "Optimization Finished!\n",
      "Training cost= 0.25321224 W= 0.9061158 b= 0.019175956 \n",
      "\n"
     ]
    },
    {
     "data": {
      "image/png": "[encoded data removed]",
      "text/plain": [
       "<Figure size 432x288 with 1 Axes>"
      ]
     },
     "metadata": {},
     "output_type": "display_data"
    }
   ],
   "source": [
    "# Launch the graph\n",
    "with tf.Session() as sess:\n",
    "    sess.run(init)\n",
    "\n",
    "    # Fit all training data\n",
    "    for epoch in range(training_epochs):\n",
    "        for (x, y) in zip(train_X, train_Y):\n",
    "            sess.run(optimizer, feed_dict={X: x, Y: y})\n",
    "\n",
    "        #Display logs per epoch step\n",
    "        if (epoch+1) % display_step == 0:\n",
    "            c = sess.run(cost, feed_dict={X: train_X, Y:train_Y})\n",
    "            print (\"Epoch:\", '%04d' % (epoch+1), \"cost=\", \"{:.9f}\".format(c), \\\n",
    "                \"W=\", sess.run(W), \"b=\", sess.run(b))\n",
    "\n",
    "    print (\"Optimization Finished!\")\n",
    "    training_cost = sess.run(cost, feed_dict={X: train_X, Y: train_Y})\n",
    "    print (\"Training cost=\", training_cost, \"W=\", sess.run(W), \"b=\", sess.run(b), '\\n')\n",
    "\n",
    "    #Graphic display\n",
    "    plt.plot(train_X, train_Y, 'ro', label='Original data')\n",
    "    plt.plot(train_X, sess.run(W) * train_X + sess.run(b), label='Fitted line')\n",
    "    plt.legend()\n",
    "    plt.show()"
   ]
  },
  {
   "cell_type": "code",
   "execution_count": 9,
   "metadata": {},
   "outputs": [],
   "source": [
    "# Regression result"
   ]
  }
 ],
 "metadata": {
  "kernelspec": {
   "display_name": "Python 3",
   "language": "python",
   "name": "python3"
  },
  "language_info": {
   "codemirror_mode": {
    "name": "ipython",
    "version": 3
   },
   "file_extension": ".py",
   "mimetype": "text/x-python",
   "name": "python",
   "nbconvert_exporter": "python",
   "pygments_lexer": "ipython3",
   "version": "3.6.5"
  }
 },
 "nbformat": 4,
 "nbformat_minor": 1
}
