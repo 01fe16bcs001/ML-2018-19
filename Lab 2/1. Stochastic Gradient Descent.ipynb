{
 "cells": [
  {
   "cell_type": "code",
   "execution_count": null,
   "metadata": {},
   "outputs": [],
   "source": [
    "# Make a prediction with coefficients\n",
    "import pylab\n",
    "def predict(row, coefficients):\n",
    "\tyhat = coefficients[0]\n",
    "\tfor i in range(len(row)-1):\n",
    "\t\tyhat += coefficients[i + 1] * row[i]\n",
    "\treturn yhat"
   ]
  },
  {
   "cell_type": "code",
   "execution_count": null,
   "metadata": {},
   "outputs": [],
   "source": [
    "# Estimate linear regression coefficients using stochastic gradient descent\n",
    "def coefficients_sgd(train, l_rate, n_epoch):\n",
    "\tcoef = [0.0 for i in range(len(train[0]))]\n",
    "\tfor epoch in range(n_epoch):\n",
    "\t\tsum_error = 0\n",
    "\t\tfor row in train:\n",
    "\t\t\tyhat = predict(row, coef)\n",
    "\t\t\terror = yhat - row[-1]\n",
    "\t\t\tsum_error += error**2\n",
    "\t\t\tcoef[0] = coef[0] - l_rate * error\n",
    "\t\t\tfor i in range(len(row)-1):\n",
    "\t\t\t\tcoef[i + 1] = coef[i + 1] - l_rate * error * row[i]\n",
    "\t\tprint('>epoch=%d, lrate=%.3f, error=%.3f' % (epoch, l_rate, sum_error))\n",
    "\t\tprint(coef)\n",
    "\treturn coef"
   ]
  },
  {
   "cell_type": "code",
   "execution_count": null,
   "metadata": {},
   "outputs": [],
   "source": [
    "# Calculate coefficients\n",
    "dataset = [[1, 1], [2, 3], [4, 3], [3, 2], [5, 5]]\n",
    "l_rate = 0.01\n",
    "n_epoch = 100\n",
    "coef = coefficients_sgd(dataset, l_rate, n_epoch)\n",
    "print(coef)\n",
    "#pylab.plot(dataset[1:4])\n",
    "print(dataset[0][1])\n",
    "m=[]\n",
    "print(m)\n",
    "m.append(dataset[0][0])\n",
    "print(m)\n",
    "m.append(dataset[1][0])\n",
    "m.append(dataset[2][0])\n",
    "m.append(dataset[3][0])\n",
    "m.append(dataset[4][0])\n",
    "print(m)\n",
    "n=[]\n",
    "print(n)\n",
    "n.append(dataset[0][1])\n",
    "n.append(dataset[1][1])\n",
    "n.append(dataset[2][1])\n",
    "n.append(dataset[3][1])\n",
    "n.append(dataset[4][1])\n",
    "print(n)\n",
    "y_predict=[]\n",
    "\n",
    "q=coef[0] + coef[1]*m[0]\n",
    "y_predict.append(q)\n",
    "\n",
    "q=coef[0] + coef[1]*m[1]\n",
    "y_predict.append(q)\n",
    "\n",
    "\n",
    "q=coef[0] + coef[1]*m[2]\n",
    "y_predict.append(q)\n",
    "\n",
    "\n",
    "q=coef[0] + coef[1]*m[3]\n",
    "y_predict.append(q)\n",
    "\n",
    "\n",
    "q=coef[0] + coef[1]*m[4]\n",
    "y_predict.append(q)\n",
    "\n",
    "        \n",
    "pylab.plot(m,n,'o')\n",
    "pylab.plot(m,y_predict,'k-')\n",
    "pylab.show()\n",
    "print(coef)"
   ]
  }
 ],
 "metadata": {
  "kernelspec": {
   "display_name": "Python 3",
   "language": "python",
   "name": "python3"
  },
  "language_info": {
   "codemirror_mode": {
    "name": "ipython",
    "version": 3
   },
   "file_extension": ".py",
   "mimetype": "text/x-python",
   "name": "python",
   "nbconvert_exporter": "python",
   "pygments_lexer": "ipython3",
   "version": "3.6.5"
  }
 },
 "nbformat": 4,
 "nbformat_minor": 2
}
