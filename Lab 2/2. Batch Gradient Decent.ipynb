{
 "cells": [
  {
   "cell_type": "code",
   "execution_count": 6,
   "metadata": {},
   "outputs": [],
   "source": [
    "import numpy as np\n",
    "import pandas as pd\n",
    "import random\n",
    "import pylab\n",
    "from scipy import stats\n",
    "from mpl_toolkits.mplot3d import Axes3D\n",
    "import matplotlib as mpl\n",
    "import matplotlib.pyplot as plt"
   ]
  },
  {
   "cell_type": "code",
   "execution_count": 7,
   "metadata": {},
   "outputs": [],
   "source": [
    "def compute_cost_function(m, t0, t1, x, y):\n",
    "  return 1/2/m * sum([(t0 + t1* np.asarray([x[i]]) - y[i])**2 for i in range(m)])"
   ]
  },
  {
   "cell_type": "code",
   "execution_count": 8,
   "metadata": {},
   "outputs": [],
   "source": [
    "def gradient_descent(alpha, x, y, ep=0.0001, max_iter=10):\n",
    "    converged = False\n",
    "    iter = 0\n",
    "    m = x.shape[0] # number of samples\n",
    "\n",
    "    # initial theta\n",
    "    t0 = 0\n",
    "    t1 = 0\n",
    "\n",
    "    # total error, J(theta)\n",
    "    J = compute_cost_function(m, t0, t1, x, y)\n",
    "    print('J=', J);\n",
    "    # Iterate Loop\n",
    "    num_iter = 0\n",
    "    while not converged:\n",
    "        # for each training sample, compute the gradient (d/d_theta j(theta))\n",
    "        grad0 = 1.0/m * sum([(t0 + t1*np.asarray([x[i]]) - y[i]) for i in range(m)]) \n",
    "        grad1 = 1.0/m * sum([(t0 + t1*np.asarray([x[i]]) - y[i])*np.asarray([x[i]]) for i in range(m)])\n",
    "\n",
    "        # update the theta_temp\n",
    "        temp0 = t0 - alpha * grad0\n",
    "        temp1 = t1 - alpha * grad1\n",
    "    \n",
    "        # update theta\n",
    "        t0 = temp0\n",
    "        t1 = temp1\n",
    "\n",
    "        # mean squared error\n",
    "        e = compute_cost_function(m, t0, t1, x, y)\n",
    "        print ('J = ', e)\n",
    "        J = e   # update error \n",
    "        iter += 1  # update iter\n",
    "    \n",
    "        if iter == max_iter:\n",
    "            print ('Max interactions exceeded!')\n",
    "            converged = True\n",
    "\n",
    "    return t0,t1"
   ]
  },
  {
   "cell_type": "code",
   "execution_count": 9,
   "metadata": {},
   "outputs": [],
   "source": [
    "def plot_cost_function(x, y, m):\n",
    "    t0 = list(range(0, x.shape[0]))\n",
    "    j_values = []\n",
    "    for i in range(len(t0)):\n",
    "        j_values.append(compute_cost_function(m, i, i, x, y)[0])\n",
    "    print ('j_values', len(j_values), len(x), len(y))\n",
    "    fig = plt.figure()\n",
    "    ax = fig.gca(projection='3d')\n",
    "    ax.plot(x, y, j_values, label='parametric curve')\n",
    "    ax.legend()\n",
    "    plt.show()"
   ]
  },
  {
   "cell_type": "code",
   "execution_count": 10,
   "metadata": {},
   "outputs": [
    {
     "name": "stdout",
     "output_type": "stream",
     "text": [
      "J= [4.8]\n",
      "J =  [3.785392]\n",
      "J =  [2.99665611]\n",
      "J =  [2.38350825]\n",
      "J =  [1.90685869]\n",
      "J =  [1.53631993]\n",
      "J =  [1.24826938]\n",
      "J =  [1.02434337]\n",
      "J =  [0.85026638]\n",
      "J =  [0.71494094]\n",
      "J =  [0.6097401]\n",
      "Max interactions exceeded!\n",
      "theta0 = [0.17056254] theta1 = [0.6049785]\n"
     ]
    },
    {
     "data": {
      "image/png": "[encoded data removed]",
      "text/plain": [
       "<Figure size 432x288 with 1 Axes>"
      ]
     },
     "metadata": {},
     "output_type": "display_data"
    },
    {
     "name": "stdout",
     "output_type": "stream",
     "text": [
      "Done!\n"
     ]
    }
   ],
   "source": [
    "if __name__ == '__main__':\n",
    "  \n",
    "    df = pd.read_csv('1.txt', names=['x','y'])\n",
    "    x = df['x']\n",
    "    y = df['y']\n",
    "     \n",
    "    alpha = 0.01 # learning rate\n",
    "    ep = 0.0001 # convergence criteria\n",
    "\n",
    "    # call gredient decent, and get intercept(=theta0) and slope(=theta1)\n",
    "    theta0, theta1 = gradient_descent(alpha, x, y, ep, max_iter=10)\n",
    "    print ('theta0 = ' + str(theta0)+' theta1 = '+str(theta1))\n",
    "    # plot_cost_function(x, y, x.shape[0])\n",
    "\n",
    "    # plot\n",
    "    for i in range(x.shape[0]):\n",
    "        y_predict = theta0 + theta1*x \n",
    "\n",
    "    pylab.plot(x,y,'o')\n",
    "    pylab.plot(x,y_predict,'k-')\n",
    "    pylab.show()\n",
    "    print (\"Done!\")"
   ]
  }
 ],
 "metadata": {
  "kernelspec": {
   "display_name": "Python 3",
   "language": "python",
   "name": "python3"
  },
  "language_info": {
   "codemirror_mode": {
    "name": "ipython",
    "version": 3
   },
   "file_extension": ".py",
   "mimetype": "text/x-python",
   "name": "python",
   "nbconvert_exporter": "python",
   "pygments_lexer": "ipython3",
   "version": "3.6.5"
  }
 },
 "nbformat": 4,
 "nbformat_minor": 2
}
